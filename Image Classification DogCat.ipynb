{
 "cells": [
  {
   "cell_type": "code",
   "execution_count": 20,
   "metadata": {},
   "outputs": [
    {
     "name": "stderr",
     "output_type": "stream",
     "text": [
      "C:\\ProgramData\\Anaconda3\\lib\\site-packages\\tensorflow\\python\\framework\\dtypes.py:526: FutureWarning: Passing (type, 1) or '1type' as a synonym of type is deprecated; in a future version of numpy, it will be understood as (type, (1,)) / '(1,)type'.\n",
      "  _np_qint8 = np.dtype([(\"qint8\", np.int8, 1)])\n",
      "C:\\ProgramData\\Anaconda3\\lib\\site-packages\\tensorflow\\python\\framework\\dtypes.py:527: FutureWarning: Passing (type, 1) or '1type' as a synonym of type is deprecated; in a future version of numpy, it will be understood as (type, (1,)) / '(1,)type'.\n",
      "  _np_quint8 = np.dtype([(\"quint8\", np.uint8, 1)])\n",
      "C:\\ProgramData\\Anaconda3\\lib\\site-packages\\tensorflow\\python\\framework\\dtypes.py:528: FutureWarning: Passing (type, 1) or '1type' as a synonym of type is deprecated; in a future version of numpy, it will be understood as (type, (1,)) / '(1,)type'.\n",
      "  _np_qint16 = np.dtype([(\"qint16\", np.int16, 1)])\n",
      "C:\\ProgramData\\Anaconda3\\lib\\site-packages\\tensorflow\\python\\framework\\dtypes.py:529: FutureWarning: Passing (type, 1) or '1type' as a synonym of type is deprecated; in a future version of numpy, it will be understood as (type, (1,)) / '(1,)type'.\n",
      "  _np_quint16 = np.dtype([(\"quint16\", np.uint16, 1)])\n",
      "C:\\ProgramData\\Anaconda3\\lib\\site-packages\\tensorflow\\python\\framework\\dtypes.py:530: FutureWarning: Passing (type, 1) or '1type' as a synonym of type is deprecated; in a future version of numpy, it will be understood as (type, (1,)) / '(1,)type'.\n",
      "  _np_qint32 = np.dtype([(\"qint32\", np.int32, 1)])\n",
      "C:\\ProgramData\\Anaconda3\\lib\\site-packages\\tensorflow\\python\\framework\\dtypes.py:535: FutureWarning: Passing (type, 1) or '1type' as a synonym of type is deprecated; in a future version of numpy, it will be understood as (type, (1,)) / '(1,)type'.\n",
      "  np_resource = np.dtype([(\"resource\", np.ubyte, 1)])\n"
     ]
    }
   ],
   "source": [
    "import numpy as np\n",
    "from PIL import Image\n",
    "image = Image.open('dog.4.jpg')\n",
    "image.show()\n",
    "image.save('dog4.png')\n",
    "\n",
    "\n"
   ]
  },
  {
   "cell_type": "code",
   "execution_count": 96,
   "metadata": {},
   "outputs": [
    {
     "ename": "PermissionError",
     "evalue": "[Errno 13] Permission denied: 'C:/Users/Administrator/DogCat/cats'",
     "output_type": "error",
     "traceback": [
      "\u001b[1;31m---------------------------------------------------------------------------\u001b[0m",
      "\u001b[1;31mPermissionError\u001b[0m                           Traceback (most recent call last)",
      "\u001b[1;32m<ipython-input-96-e08a9fa09ea5>\u001b[0m in \u001b[0;36m<module>\u001b[1;34m\u001b[0m\n\u001b[0;32m      3\u001b[0m \u001b[1;32mfrom\u001b[0m \u001b[0mpylab\u001b[0m \u001b[1;32mimport\u001b[0m \u001b[1;33m*\u001b[0m\u001b[1;33m\u001b[0m\u001b[1;33m\u001b[0m\u001b[0m\n\u001b[0;32m      4\u001b[0m \u001b[1;33m\u001b[0m\u001b[0m\n\u001b[1;32m----> 5\u001b[1;33m \u001b[0mimage1\u001b[0m \u001b[1;33m=\u001b[0m \u001b[0mImage\u001b[0m\u001b[1;33m.\u001b[0m\u001b[0mopen\u001b[0m\u001b[1;33m(\u001b[0m\u001b[1;34m'C:/Users/Administrator/DogCat/cats'\u001b[0m\u001b[1;33m)\u001b[0m\u001b[1;33m\u001b[0m\u001b[1;33m\u001b[0m\u001b[0m\n\u001b[0m\u001b[0;32m      6\u001b[0m \u001b[0mimage1\u001b[0m\u001b[1;33m.\u001b[0m\u001b[0mshow\u001b[0m\u001b[1;33m(\u001b[0m\u001b[1;33m)\u001b[0m\u001b[1;33m\u001b[0m\u001b[1;33m\u001b[0m\u001b[0m\n\u001b[0;32m      7\u001b[0m \u001b[1;32mimport\u001b[0m \u001b[0mos\u001b[0m\u001b[1;33m\u001b[0m\u001b[1;33m\u001b[0m\u001b[0m\n",
      "\u001b[1;32mC:\\ProgramData\\Anaconda3\\lib\\site-packages\\PIL\\Image.py\u001b[0m in \u001b[0;36mopen\u001b[1;34m(fp, mode)\u001b[0m\n\u001b[0;32m   2632\u001b[0m \u001b[1;33m\u001b[0m\u001b[0m\n\u001b[0;32m   2633\u001b[0m     \u001b[1;32mif\u001b[0m \u001b[0mfilename\u001b[0m\u001b[1;33m:\u001b[0m\u001b[1;33m\u001b[0m\u001b[1;33m\u001b[0m\u001b[0m\n\u001b[1;32m-> 2634\u001b[1;33m         \u001b[0mfp\u001b[0m \u001b[1;33m=\u001b[0m \u001b[0mbuiltins\u001b[0m\u001b[1;33m.\u001b[0m\u001b[0mopen\u001b[0m\u001b[1;33m(\u001b[0m\u001b[0mfilename\u001b[0m\u001b[1;33m,\u001b[0m \u001b[1;34m\"rb\"\u001b[0m\u001b[1;33m)\u001b[0m\u001b[1;33m\u001b[0m\u001b[1;33m\u001b[0m\u001b[0m\n\u001b[0m\u001b[0;32m   2635\u001b[0m         \u001b[0mexclusive_fp\u001b[0m \u001b[1;33m=\u001b[0m \u001b[1;32mTrue\u001b[0m\u001b[1;33m\u001b[0m\u001b[1;33m\u001b[0m\u001b[0m\n\u001b[0;32m   2636\u001b[0m \u001b[1;33m\u001b[0m\u001b[0m\n",
      "\u001b[1;31mPermissionError\u001b[0m: [Errno 13] Permission denied: 'C:/Users/Administrator/DogCat/cats'"
     ]
    }
   ],
   "source": [
    "\n",
    "from skimage import data\n",
    "from skimage import io\n",
    "from pylab import *\n",
    "\n",
    "image1 = Image.open('C:/Users/Administrator/DogCat/cats')\n",
    "image1.show()\n",
    "import os\n"
   ]
  },
  {
   "cell_type": "code",
   "execution_count": 153,
   "metadata": {},
   "outputs": [
    {
     "ename": "SyntaxError",
     "evalue": "invalid syntax (<ipython-input-153-1a3e7a3decd6>, line 4)",
     "output_type": "error",
     "traceback": [
      "\u001b[1;36m  File \u001b[1;32m\"<ipython-input-153-1a3e7a3decd6>\"\u001b[1;36m, line \u001b[1;32m4\u001b[0m\n\u001b[1;33m    for f in os.listdir('C:/Users/Administrator/DogCat/cats'):\u001b[0m\n\u001b[1;37m                                                             ^\u001b[0m\n\u001b[1;31mSyntaxError\u001b[0m\u001b[1;31m:\u001b[0m invalid syntax\n"
     ]
    }
   ],
   "source": [
    "catimg = Image.open(('C:/Users/Administrator/DogCat/cats')\n",
    "#sizeimg = (300,300)\n",
    "\n",
    "for f in os.listdir('C:/Users/Administrator/DogCat/cats'):\n",
    "   # if f.endwith('.jpg'):\n",
    "        print(f)\n",
    "    \n",
    "i= Image.open(f)\n",
    "i.thumbnail(sizeimg)\n",
    "flnam, flextn = os.path.splitext(f)\n",
    "print(flnam)\n",
    "print(flextn)\n",
    "\n",
    "    "
   ]
  },
  {
   "cell_type": "code",
   "execution_count": 52,
   "metadata": {},
   "outputs": [
    {
     "name": "stdout",
     "output_type": "stream",
     "text": [
      "cat.999\n",
      ".jpg\n"
     ]
    }
   ],
   "source": [
    "flnam, flextn = os.path.splitext(f)\n",
    "print(flnam)\n",
    "print(flextn)"
   ]
  },
  {
   "cell_type": "code",
   "execution_count": null,
   "metadata": {},
   "outputs": [],
   "source": []
  },
  {
   "cell_type": "code",
   "execution_count": null,
   "metadata": {},
   "outputs": [],
   "source": []
  },
  {
   "cell_type": "code",
   "execution_count": 155,
   "metadata": {},
   "outputs": [
    {
     "ename": "FileNotFoundError",
     "evalue": "[WinError 3] The system cannot find the path specified: 'C:/Users/Administrator/DogCat/data/train/dogs'",
     "output_type": "error",
     "traceback": [
      "\u001b[1;31m---------------------------------------------------------------------------\u001b[0m",
      "\u001b[1;31mFileNotFoundError\u001b[0m                         Traceback (most recent call last)",
      "\u001b[1;32m<ipython-input-155-ff1e98f1e870>\u001b[0m in \u001b[0;36m<module>\u001b[1;34m\u001b[0m\n\u001b[0;32m      2\u001b[0m \u001b[1;32mimport\u001b[0m \u001b[0mos\u001b[0m\u001b[1;33m\u001b[0m\u001b[1;33m\u001b[0m\u001b[0m\n\u001b[0;32m      3\u001b[0m \u001b[0msize\u001b[0m \u001b[1;33m=\u001b[0m \u001b[1;33m(\u001b[0m\u001b[1;36m300\u001b[0m\u001b[1;33m,\u001b[0m\u001b[1;36m300\u001b[0m\u001b[1;33m)\u001b[0m\u001b[1;33m\u001b[0m\u001b[1;33m\u001b[0m\u001b[0m\n\u001b[1;32m----> 4\u001b[1;33m \u001b[1;32mfor\u001b[0m \u001b[0mf1\u001b[0m \u001b[1;32min\u001b[0m \u001b[0mos\u001b[0m\u001b[1;33m.\u001b[0m\u001b[0mlistdir\u001b[0m\u001b[1;33m(\u001b[0m\u001b[1;34m'C:/Users/Administrator/DogCat/data/train/dogs'\u001b[0m\u001b[1;33m)\u001b[0m\u001b[1;33m:\u001b[0m\u001b[1;33m\u001b[0m\u001b[1;33m\u001b[0m\u001b[0m\n\u001b[0m\u001b[0;32m      5\u001b[0m     \u001b[0mflnam\u001b[0m\u001b[1;33m,\u001b[0m \u001b[0mflextn\u001b[0m \u001b[1;33m=\u001b[0m \u001b[0mos\u001b[0m\u001b[1;33m.\u001b[0m\u001b[0mpath\u001b[0m\u001b[1;33m.\u001b[0m\u001b[0msplitext\u001b[0m\u001b[1;33m(\u001b[0m\u001b[0mf1\u001b[0m\u001b[1;33m)\u001b[0m\u001b[1;33m\u001b[0m\u001b[1;33m\u001b[0m\u001b[0m\n\u001b[0;32m      6\u001b[0m     \u001b[0mprint\u001b[0m\u001b[1;33m(\u001b[0m\u001b[0mf1\u001b[0m\u001b[1;33m)\u001b[0m\u001b[1;33m\u001b[0m\u001b[1;33m\u001b[0m\u001b[0m\n",
      "\u001b[1;31mFileNotFoundError\u001b[0m: [WinError 3] The system cannot find the path specified: 'C:/Users/Administrator/DogCat/data/train/dogs'"
     ]
    }
   ],
   "source": [
    "from PIL import Image\n",
    "import os\n",
    "size = (300,300)\n",
    "for f1 in os.listdir('C:/Users/Administrator/DogCat/dogs'):\n",
    "    flnam, flextn = os.path.splitext(f1)\n",
    "    print(f1)\n",
    "\n",
    "    \n",
    "    "
   ]
  },
  {
   "cell_type": "code",
   "execution_count": 134,
   "metadata": {},
   "outputs": [
    {
     "ename": "PermissionError",
     "evalue": "[Errno 13] Permission denied: 'C:/Users/Administrator/DogCat/dogs'",
     "output_type": "error",
     "traceback": [
      "\u001b[1;31m---------------------------------------------------------------------------\u001b[0m",
      "\u001b[1;31mPermissionError\u001b[0m                           Traceback (most recent call last)",
      "\u001b[1;32m<ipython-input-134-578da8b1bf07>\u001b[0m in \u001b[0;36m<module>\u001b[1;34m\u001b[0m\n\u001b[1;32m----> 1\u001b[1;33m \u001b[0mi\u001b[0m\u001b[1;33m=\u001b[0m \u001b[0mImage\u001b[0m\u001b[1;33m.\u001b[0m\u001b[0mopen\u001b[0m\u001b[1;33m(\u001b[0m\u001b[1;34m'C:/Users/Administrator/DogCat/dogs'\u001b[0m\u001b[1;33m)\u001b[0m\u001b[1;33m\u001b[0m\u001b[1;33m\u001b[0m\u001b[0m\n\u001b[0m",
      "\u001b[1;32mC:\\ProgramData\\Anaconda3\\lib\\site-packages\\PIL\\Image.py\u001b[0m in \u001b[0;36mopen\u001b[1;34m(fp, mode)\u001b[0m\n\u001b[0;32m   2632\u001b[0m \u001b[1;33m\u001b[0m\u001b[0m\n\u001b[0;32m   2633\u001b[0m     \u001b[1;32mif\u001b[0m \u001b[0mfilename\u001b[0m\u001b[1;33m:\u001b[0m\u001b[1;33m\u001b[0m\u001b[1;33m\u001b[0m\u001b[0m\n\u001b[1;32m-> 2634\u001b[1;33m         \u001b[0mfp\u001b[0m \u001b[1;33m=\u001b[0m \u001b[0mbuiltins\u001b[0m\u001b[1;33m.\u001b[0m\u001b[0mopen\u001b[0m\u001b[1;33m(\u001b[0m\u001b[0mfilename\u001b[0m\u001b[1;33m,\u001b[0m \u001b[1;34m\"rb\"\u001b[0m\u001b[1;33m)\u001b[0m\u001b[1;33m\u001b[0m\u001b[1;33m\u001b[0m\u001b[0m\n\u001b[0m\u001b[0;32m   2635\u001b[0m         \u001b[0mexclusive_fp\u001b[0m \u001b[1;33m=\u001b[0m \u001b[1;32mTrue\u001b[0m\u001b[1;33m\u001b[0m\u001b[1;33m\u001b[0m\u001b[0m\n\u001b[0;32m   2636\u001b[0m \u001b[1;33m\u001b[0m\u001b[0m\n",
      "\u001b[1;31mPermissionError\u001b[0m: [Errno 13] Permission denied: 'C:/Users/Administrator/DogCat/dogs'"
     ]
    }
   ],
   "source": [
    "i= Image.open('C:/Users/Administrator/DogCat/dogs')\n",
    "i.save('C:/Users/Administrator/Pngdog.png'.format(flnam,flextn))\n",
    "i.thumbnail(size)\n"
   ]
  },
  {
   "cell_type": "code",
   "execution_count": 108,
   "metadata": {},
   "outputs": [
    {
     "name": "stdout",
     "output_type": "stream",
     "text": [
      "dog.999\n",
      ".jpg\n"
     ]
    }
   ],
   "source": [
    "print(flnam)\n",
    "print(flextn)"
   ]
  },
  {
   "cell_type": "code",
   "execution_count": 109,
   "metadata": {},
   "outputs": [
    {
     "name": "stdout",
     "output_type": "stream",
     "text": [
      "dog.999\n"
     ]
    }
   ],
   "source": [
    "\n",
    "\n",
    "\n"
   ]
  },
  {
   "cell_type": "code",
   "execution_count": 107,
   "metadata": {},
   "outputs": [
    {
     "ename": "FileNotFoundError",
     "evalue": "[Errno 2] No such file or directory: 'dog.999.jpg'",
     "output_type": "error",
     "traceback": [
      "\u001b[1;31m---------------------------------------------------------------------------\u001b[0m",
      "\u001b[1;31mFileNotFoundError\u001b[0m                         Traceback (most recent call last)",
      "\u001b[1;32m<ipython-input-107-b3236180c169>\u001b[0m in \u001b[0;36m<module>\u001b[1;34m\u001b[0m\n\u001b[1;32m----> 1\u001b[1;33m \u001b[0mi\u001b[0m\u001b[1;33m=\u001b[0m \u001b[0mImage\u001b[0m\u001b[1;33m.\u001b[0m\u001b[0mopen\u001b[0m\u001b[1;33m(\u001b[0m\u001b[0mf1\u001b[0m\u001b[1;33m)\u001b[0m\u001b[1;33m\u001b[0m\u001b[1;33m\u001b[0m\u001b[0m\n\u001b[0m\u001b[0;32m      2\u001b[0m \u001b[0mi\u001b[0m\u001b[1;33m.\u001b[0m\u001b[0msave\u001b[0m\u001b[1;33m(\u001b[0m\u001b[1;34m'C:/Users/Administrator/Pngdog.png'\u001b[0m\u001b[1;33m.\u001b[0m\u001b[0mformat\u001b[0m\u001b[1;33m(\u001b[0m\u001b[0mflnam\u001b[0m\u001b[1;33m,\u001b[0m\u001b[0mflextn\u001b[0m\u001b[1;33m)\u001b[0m\u001b[1;33m)\u001b[0m\u001b[1;33m\u001b[0m\u001b[1;33m\u001b[0m\u001b[0m\n",
      "\u001b[1;32mC:\\ProgramData\\Anaconda3\\lib\\site-packages\\PIL\\Image.py\u001b[0m in \u001b[0;36mopen\u001b[1;34m(fp, mode)\u001b[0m\n\u001b[0;32m   2632\u001b[0m \u001b[1;33m\u001b[0m\u001b[0m\n\u001b[0;32m   2633\u001b[0m     \u001b[1;32mif\u001b[0m \u001b[0mfilename\u001b[0m\u001b[1;33m:\u001b[0m\u001b[1;33m\u001b[0m\u001b[1;33m\u001b[0m\u001b[0m\n\u001b[1;32m-> 2634\u001b[1;33m         \u001b[0mfp\u001b[0m \u001b[1;33m=\u001b[0m \u001b[0mbuiltins\u001b[0m\u001b[1;33m.\u001b[0m\u001b[0mopen\u001b[0m\u001b[1;33m(\u001b[0m\u001b[0mfilename\u001b[0m\u001b[1;33m,\u001b[0m \u001b[1;34m\"rb\"\u001b[0m\u001b[1;33m)\u001b[0m\u001b[1;33m\u001b[0m\u001b[1;33m\u001b[0m\u001b[0m\n\u001b[0m\u001b[0;32m   2635\u001b[0m         \u001b[0mexclusive_fp\u001b[0m \u001b[1;33m=\u001b[0m \u001b[1;32mTrue\u001b[0m\u001b[1;33m\u001b[0m\u001b[1;33m\u001b[0m\u001b[0m\n\u001b[0;32m   2636\u001b[0m \u001b[1;33m\u001b[0m\u001b[0m\n",
      "\u001b[1;31mFileNotFoundError\u001b[0m: [Errno 2] No such file or directory: 'dog.999.jpg'"
     ]
    }
   ],
   "source": [
    "i= Image.open(f1)\n",
    "i.save('C:/Users/Administrator/Pngdog.png'.format(flnam,flextn))"
   ]
  },
  {
   "cell_type": "code",
   "execution_count": 135,
   "metadata": {},
   "outputs": [
    {
     "name": "stdout",
     "output_type": "stream",
     "text": [
      "cats\n",
      "dogs\n"
     ]
    }
   ],
   "source": [
    "for fold in os.listdir('C:/Users/Administrator/DogCat'):\n",
    "   # if f.endwith('.jpg'):\n",
    "        print(fold)\n"
   ]
  },
  {
   "cell_type": "code",
   "execution_count": 1,
   "metadata": {},
   "outputs": [],
   "source": [
    "import numpy as np\n",
    "import sklearn as sk\n",
    "import os\n",
    "from PIL import Image\n",
    "from PIL import ImageFilter\n",
    "from sklearn.svm import SVC\n",
    "\n"
   ]
  },
  {
   "cell_type": "code",
   "execution_count": 5,
   "metadata": {},
   "outputs": [
    {
     "name": "stdout",
     "output_type": "stream",
     "text": [
      "['cats', 'dogs']\n",
      "cat.0.jpg\n",
      "['cats', 'dogs']\n",
      "['dog.1000.jpg', 'dog.1001.jpg', 'dog.1002.jpg', 'dog.1003.jpg', 'dog.1004.jpg', 'dog.1005.jpg', 'dog.1006.jpg', 'dog.1007.jpg', 'dog.1008.jpg', 'dog.1009.jpg', 'dog.1010.jpg', 'dog.1011.jpg', 'dog.1012.jpg', 'dog.1013.jpg', 'dog.1014.jpg', 'dog.1015.jpg', 'dog.1016.jpg', 'dog.1017.jpg', 'dog.1018.jpg', 'dog.1019.jpg', 'dog.1020.jpg', 'dog.1021.jpg', 'dog.1022.jpg', 'dog.1023.jpg', 'dog.1024.jpg', 'dog.1025.jpg', 'dog.1026.jpg', 'dog.1027.jpg', 'dog.1028.jpg', 'dog.1029.jpg', 'dog.1030.jpg', 'dog.1031.jpg', 'dog.1032.jpg', 'dog.1033.jpg', 'dog.1034.jpg', 'dog.1035.jpg', 'dog.1036.jpg', 'dog.1037.jpg', 'dog.1038.jpg', 'dog.1039.jpg', 'dog.1040.jpg', 'dog.1041.jpg', 'dog.1042.jpg', 'dog.1043.jpg', 'dog.1044.jpg', 'dog.1045.jpg', 'dog.1046.jpg', 'dog.1047.jpg', 'dog.1048.jpg', 'dog.1049.jpg', 'dog.1050.jpg', 'dog.1051.jpg', 'dog.1052.jpg', 'dog.1053.jpg', 'dog.1054.jpg', 'dog.1055.jpg', 'dog.1056.jpg', 'dog.1057.jpg', 'dog.1058.jpg', 'dog.1059.jpg', 'dog.1060.jpg', 'dog.1061.jpg', 'dog.1062.jpg', 'dog.1063.jpg', 'dog.1064.jpg', 'dog.1065.jpg', 'dog.1066.jpg', 'dog.1067.jpg', 'dog.1068.jpg', 'dog.1069.jpg', 'dog.1070.jpg', 'dog.1071.jpg', 'dog.1072.jpg', 'dog.1073.jpg', 'dog.1074.jpg', 'dog.1075.jpg', 'dog.1076.jpg', 'dog.1077.jpg', 'dog.1078.jpg', 'dog.1079.jpg', 'dog.1080.jpg', 'dog.1081.jpg', 'dog.1082.jpg', 'dog.1083.jpg', 'dog.1084.jpg', 'dog.1085.jpg', 'dog.1086.jpg', 'dog.1087.jpg', 'dog.1088.jpg', 'dog.1089.jpg', 'dog.1090.jpg', 'dog.1091.jpg', 'dog.1092.jpg', 'dog.1093.jpg', 'dog.1094.jpg', 'dog.1095.jpg', 'dog.1096.jpg', 'dog.1097.jpg', 'dog.1098.jpg', 'dog.1099.jpg', 'dog.1100.jpg', 'dog.1101.jpg', 'dog.1102.jpg', 'dog.1103.jpg', 'dog.1104.jpg', 'dog.1105.jpg', 'dog.1106.jpg', 'dog.1107.jpg', 'dog.1108.jpg', 'dog.1109.jpg', 'dog.1110.jpg', 'dog.1111.jpg', 'dog.1112.jpg', 'dog.1113.jpg', 'dog.1114.jpg', 'dog.1115.jpg', 'dog.1116.jpg', 'dog.1117.jpg', 'dog.1118.jpg', 'dog.1119.jpg', 'dog.1120.jpg', 'dog.1121.jpg', 'dog.1122.jpg', 'dog.1123.jpg', 'dog.1124.jpg', 'dog.1125.jpg', 'dog.1126.jpg', 'dog.1127.jpg', 'dog.1128.jpg', 'dog.1129.jpg', 'dog.1130.jpg', 'dog.1131.jpg', 'dog.1132.jpg', 'dog.1133.jpg', 'dog.1134.jpg', 'dog.1135.jpg', 'dog.1136.jpg', 'dog.1137.jpg', 'dog.1138.jpg', 'dog.1139.jpg', 'dog.1140.jpg', 'dog.1141.jpg', 'dog.1142.jpg', 'dog.1143.jpg', 'dog.1144.jpg', 'dog.1145.jpg', 'dog.1146.jpg', 'dog.1147.jpg', 'dog.1148.jpg', 'dog.1149.jpg', 'dog.1150.jpg', 'dog.1151.jpg', 'dog.1152.jpg', 'dog.1153.jpg', 'dog.1154.jpg', 'dog.1155.jpg', 'dog.1156.jpg', 'dog.1157.jpg', 'dog.1158.jpg', 'dog.1159.jpg', 'dog.1160.jpg', 'dog.1161.jpg', 'dog.1162.jpg', 'dog.1163.jpg', 'dog.1164.jpg', 'dog.1165.jpg', 'dog.1166.jpg', 'dog.1167.jpg', 'dog.1168.jpg', 'dog.1169.jpg', 'dog.1170.jpg', 'dog.1171.jpg', 'dog.1172.jpg', 'dog.1173.jpg', 'dog.1174.jpg', 'dog.1175.jpg', 'dog.1176.jpg', 'dog.1177.jpg', 'dog.1178.jpg', 'dog.1179.jpg', 'dog.1180.jpg', 'dog.1181.jpg', 'dog.1182.jpg', 'dog.1183.jpg', 'dog.1184.jpg', 'dog.1185.jpg', 'dog.1186.jpg', 'dog.1187.jpg', 'dog.1188.jpg', 'dog.1189.jpg', 'dog.1190.jpg', 'dog.1191.jpg', 'dog.1192.jpg', 'dog.1193.jpg', 'dog.1194.jpg', 'dog.1195.jpg', 'dog.1196.jpg', 'dog.1197.jpg', 'dog.1198.jpg', 'dog.1199.jpg', 'dog.1200.jpg', 'dog.1201.jpg', 'dog.1202.jpg', 'dog.1203.jpg', 'dog.1204.jpg', 'dog.1205.jpg', 'dog.1206.jpg', 'dog.1207.jpg', 'dog.1208.jpg', 'dog.1209.jpg', 'dog.1210.jpg', 'dog.1211.jpg', 'dog.1212.jpg', 'dog.1213.jpg', 'dog.1214.jpg', 'dog.1215.jpg', 'dog.1216.jpg', 'dog.1217.jpg', 'dog.1218.jpg', 'dog.1219.jpg', 'dog.1220.jpg', 'dog.1221.jpg', 'dog.1222.jpg', 'dog.1223.jpg', 'dog.1224.jpg', 'dog.1225.jpg', 'dog.1226.jpg', 'dog.1227.jpg', 'dog.1228.jpg', 'dog.1229.jpg', 'dog.1230.jpg', 'dog.1231.jpg', 'dog.1232.jpg', 'dog.1233.jpg', 'dog.1234.jpg', 'dog.1235.jpg', 'dog.1236.jpg', 'dog.1237.jpg', 'dog.1238.jpg', 'dog.1239.jpg', 'dog.1240.jpg', 'dog.1241.jpg', 'dog.1242.jpg', 'dog.1243.jpg', 'dog.1244.jpg', 'dog.1245.jpg', 'dog.1246.jpg', 'dog.1247.jpg', 'dog.1248.jpg', 'dog.1249.jpg', 'dog.1250.jpg', 'dog.1251.jpg', 'dog.1252.jpg', 'dog.1253.jpg', 'dog.1254.jpg', 'dog.1255.jpg', 'dog.1256.jpg', 'dog.1257.jpg', 'dog.1258.jpg', 'dog.1259.jpg', 'dog.1260.jpg', 'dog.1261.jpg', 'dog.1262.jpg', 'dog.1263.jpg', 'dog.1264.jpg', 'dog.1265.jpg', 'dog.1266.jpg', 'dog.1267.jpg', 'dog.1268.jpg', 'dog.1269.jpg', 'dog.1270.jpg', 'dog.1271.jpg', 'dog.1272.jpg', 'dog.1273.jpg', 'dog.1274.jpg', 'dog.1275.jpg', 'dog.1276.jpg', 'dog.1277.jpg', 'dog.1278.jpg', 'dog.1279.jpg', 'dog.1280.jpg', 'dog.1281.jpg', 'dog.1282.jpg', 'dog.1283.jpg', 'dog.1284.jpg', 'dog.1285.jpg', 'dog.1286.jpg', 'dog.1287.jpg', 'dog.1288.jpg', 'dog.1289.jpg', 'dog.1290.jpg', 'dog.1291.jpg', 'dog.1292.jpg', 'dog.1293.jpg', 'dog.1294.jpg', 'dog.1295.jpg', 'dog.1296.jpg', 'dog.1297.jpg', 'dog.1298.jpg', 'dog.1299.jpg', 'dog.1300.jpg', 'dog.1301.jpg', 'dog.1302.jpg', 'dog.1303.jpg', 'dog.1304.jpg', 'dog.1305.jpg', 'dog.1306.jpg', 'dog.1307.jpg', 'dog.1308.jpg', 'dog.1309.jpg', 'dog.1310.jpg', 'dog.1311.jpg', 'dog.1312.jpg', 'dog.1313.jpg', 'dog.1314.jpg', 'dog.1315.jpg', 'dog.1316.jpg', 'dog.1317.jpg', 'dog.1318.jpg', 'dog.1319.jpg', 'dog.1320.jpg', 'dog.1321.jpg', 'dog.1322.jpg', 'dog.1323.jpg', 'dog.1324.jpg', 'dog.1325.jpg', 'dog.1326.jpg', 'dog.1327.jpg', 'dog.1328.jpg', 'dog.1329.jpg', 'dog.1330.jpg', 'dog.1331.jpg', 'dog.1332.jpg', 'dog.1333.jpg', 'dog.1334.jpg', 'dog.1335.jpg', 'dog.1336.jpg', 'dog.1337.jpg', 'dog.1338.jpg', 'dog.1339.jpg', 'dog.1340.jpg', 'dog.1341.jpg', 'dog.1342.jpg', 'dog.1343.jpg', 'dog.1344.jpg', 'dog.1345.jpg', 'dog.1346.jpg', 'dog.1347.jpg', 'dog.1348.jpg', 'dog.1349.jpg', 'dog.1350.jpg', 'dog.1351.jpg', 'dog.1352.jpg', 'dog.1353.jpg', 'dog.1354.jpg', 'dog.1355.jpg', 'dog.1356.jpg', 'dog.1357.jpg', 'dog.1358.jpg', 'dog.1359.jpg', 'dog.1360.jpg', 'dog.1361.jpg', 'dog.1362.jpg', 'dog.1363.jpg', 'dog.1364.jpg', 'dog.1365.jpg', 'dog.1366.jpg', 'dog.1367.jpg', 'dog.1368.jpg', 'dog.1369.jpg', 'dog.1370.jpg', 'dog.1371.jpg', 'dog.1372.jpg', 'dog.1373.jpg', 'dog.1374.jpg', 'dog.1375.jpg', 'dog.1376.jpg', 'dog.1377.jpg', 'dog.1378.jpg', 'dog.1379.jpg', 'dog.1380.jpg', 'dog.1381.jpg', 'dog.1382.jpg', 'dog.1383.jpg', 'dog.1384.jpg', 'dog.1385.jpg', 'dog.1386.jpg', 'dog.1387.jpg', 'dog.1388.jpg', 'dog.1389.jpg', 'dog.1390.jpg', 'dog.1391.jpg', 'dog.1392.jpg', 'dog.1393.jpg', 'dog.1394.jpg', 'dog.1395.jpg', 'dog.1396.jpg', 'dog.1397.jpg', 'dog.1398.jpg', 'dog.1399.jpg', 'dog.9826.jpg', 'dog.9827.jpg', 'dog.9828.jpg', 'dog.9829.jpg', 'dog.9830.jpg', 'dog.9831.jpg', 'dog.9832.jpg', 'dog.9833.jpg', 'dog.9834.jpg', 'dog.9835.jpg', 'dog.9836.jpg', 'dog.9837.jpg', 'dog.9838.jpg', 'dog.9839.jpg', 'dog.9840.jpg', 'dog.9841.jpg']\n"
     ]
    }
   ],
   "source": [
    "\n",
    "\n",
    "train_image = [i for i in os.listdir('C:/Users/Administrator/DogCat/train')]\n",
    "print(train_image)\n",
    "\n",
    "train_image = [i for i in os.listdir('C:/Users/Administrator/DogCat/train/cats')]\n",
    "print(train_image[0])\n",
    "\n",
    "\n",
    "test_image = [i for i in os.listdir('C:/Users/Administrator/DogCat/test')]\n",
    "print(test_image)\n",
    "\n",
    "test_image = [i for i in os.listdir('C:/Users/Administrator/DogCat/test/dogs')]\n",
    "print(test_image)\n",
    "\n"
   ]
  },
  {
   "cell_type": "code",
   "execution_count": 11,
   "metadata": {},
   "outputs": [
    {
     "name": "stdout",
     "output_type": "stream",
     "text": [
      "['test', 'train']\n"
     ]
    }
   ],
   "source": [
    "train_image = [j for j in os.listdir('C:/Users/Administrator/DogCat')]\n",
    "print(train_image)"
   ]
  },
  {
   "cell_type": "code",
   "execution_count": null,
   "metadata": {},
   "outputs": [],
   "source": [
    "labels = []\n",
    "for i in train_images:\n",
    "    if 'dog' in j:\n",
    "        labels.append(1)\n",
    "    else:\n",
    "        labels.append(0)"
   ]
  }
 ],
 "metadata": {
  "kernelspec": {
   "display_name": "Python 3",
   "language": "python",
   "name": "python3"
  },
  "language_info": {
   "codemirror_mode": {
    "name": "ipython",
    "version": 3
   },
   "file_extension": ".py",
   "mimetype": "text/x-python",
   "name": "python",
   "nbconvert_exporter": "python",
   "pygments_lexer": "ipython3",
   "version": "3.7.1"
  }
 },
 "nbformat": 4,
 "nbformat_minor": 2
}
