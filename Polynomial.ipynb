{
 "cells": [
  {
   "cell_type": "code",
   "execution_count": 11,
   "metadata": {},
   "outputs": [
    {
     "name": "stdout",
     "output_type": "stream",
     "text": [
      "     A    B\n",
      "0  1.5  1.5\n",
      "1  2.0  2.5\n",
      "2  2.5  2.8\n",
      "3  3.0  4.0\n",
      "4  4.0  4.0\n"
     ]
    },
    {
     "data": {
      "text/plain": [
       "<matplotlib.collections.PathCollection at 0x19ada3d8d30>"
      ]
     },
     "execution_count": 11,
     "metadata": {},
     "output_type": "execute_result"
    },
    {
     "data": {
      "image/png": "[encoded data removed]",
      "text/plain": [
       "<Figure size 432x288 with 1 Axes>"
      ]
     },
     "metadata": {
      "needs_background": "light"
     },
     "output_type": "display_data"
    }
   ],
   "source": [
    "import matplotlib.pyplot as plt\n",
    "import pandas as pd\n",
    "import numpy as np\n",
    "from sklearn.linear_model import LinearRegression\n",
    "\n",
    "df = pd.read_csv(\"C:/Users/Administrator/Desktop/PYTHON CRASH COURSE/Polynomial.csv\")\n",
    "\n",
    "print(df.head())\n",
    "\n",
    "plt.scatter(df.A,df.B)\n",
    "\n"
   ]
  },
  {
   "cell_type": "code",
   "execution_count": 13,
   "metadata": {},
   "outputs": [
    {
     "data": {
      "image/png": "[encoded data removed]",
      "text/plain": [
       "<Figure size 432x288 with 1 Axes>"
      ]
     },
     "metadata": {
      "needs_background": "light"
     },
     "output_type": "display_data"
    },
    {
     "name": "stdout",
     "output_type": "stream",
     "text": [
      "R-Squared for training set: 0.8734\n"
     ]
    }
   ],
   "source": [
    "model = LinearRegression()\n",
    "\n",
    "x = df.A[0:7, np. newaxis]\n",
    "y = df.B[0:7, np. newaxis]\n",
    "\n",
    "model.fit(x,y)\n",
    "\n",
    "y_pred = model.predict(x)\n",
    " \n",
    "plt.scatter(x, y, s=10, color='b')\n",
    "\n",
    "plt.plot(x, y_pred, color='r')\n",
    "plt.show()\n",
    "\n",
    "print('R-Squared for training set: %.4f' % model.score(x,y))\n"
   ]
  },
  {
   "cell_type": "code",
   "execution_count": 20,
   "metadata": {},
   "outputs": [
    {
     "name": "stdout",
     "output_type": "stream",
     "text": [
      "[[ 1.    1.5   2.25]\n",
      " [ 1.    2.    4.  ]\n",
      " [ 1.    2.5   6.25]\n",
      " [ 1.    3.    9.  ]\n",
      " [ 1.    4.   16.  ]\n",
      " [ 1.    5.   25.  ]\n",
      " [ 1.    6.   36.  ]]\n"
     ]
    }
   ],
   "source": [
    "from sklearn.preprocessing import PolynomialFeatures\n",
    "\n",
    "degr = 2\n",
    "\n",
    "poly_feat = PolynomialFeatures(degree=degr)\n",
    "\n",
    "x_poly =poly_feat.fit_transform(x)\n",
    "\n",
    "print(x_poly)\n"
   ]
  },
  {
   "cell_type": "code",
   "execution_count": 23,
   "metadata": {},
   "outputs": [
    {
     "name": "stdout",
     "output_type": "stream",
     "text": [
      "Matrix generated using the following format ['1', 'x', 'x^2']\n"
     ]
    }
   ],
   "source": [
    "print('Matrix generated using the following format',poly_feat.get_feature_names('x'))"
   ]
  },
  {
   "cell_type": "code",
   "execution_count": 25,
   "metadata": {},
   "outputs": [
    {
     "data": {
      "image/png": "[encoded data removed]",
      "text/plain": [
       "<Figure size 432x288 with 1 Axes>"
      ]
     },
     "metadata": {
      "needs_background": "light"
     },
     "output_type": "display_data"
    }
   ],
   "source": [
    "model = LinearRegression()\n",
    "\n",
    "model.fit(x_poly, y)\n",
    "\n",
    "y_poly_pred = model.predict(x_poly)\n",
    "\n",
    "plt.scatter(x,y,s=10)\n",
    "plt.plot(x, y_poly_pred)\n",
    "plt.show()"
   ]
  },
  {
   "cell_type": "code",
   "execution_count": 27,
   "metadata": {},
   "outputs": [
    {
     "name": "stdout",
     "output_type": "stream",
     "text": [
      "[-0.85724922]\n",
      "[[ 0.          1.93996543 -0.16506016]]\n"
     ]
    }
   ],
   "source": [
    "print(model.intercept_)\n",
    "print(model.coef_)"
   ]
  },
  {
   "cell_type": "code",
   "execution_count": 29,
   "metadata": {},
   "outputs": [
    {
     "name": "stdout",
     "output_type": "stream",
     "text": [
      "R-Squared for training set: 0.9467\n"
     ]
    }
   ],
   "source": [
    "print('R-Squared for training set: %.4f' % model.score(x_poly,y)) "
   ]
  },
  {
   "cell_type": "code",
   "execution_count": 35,
   "metadata": {},
   "outputs": [
    {
     "name": "stdout",
     "output_type": "stream",
     "text": [
      "[[  1.      1.5     2.25    3.375]\n",
      " [  1.      2.      4.      8.   ]\n",
      " [  1.      2.5     6.25   15.625]\n",
      " [  1.      3.      9.     27.   ]\n",
      " [  1.      4.     16.     64.   ]\n",
      " [  1.      5.     25.    125.   ]\n",
      " [  1.      6.     36.    216.   ]]\n",
      "Matrix generated using the following format ['1', 'x', 'x^2', 'x^3']\n"
     ]
    }
   ],
   "source": [
    "from sklearn.preprocessing import PolynomialFeatures\n",
    "\n",
    "degr = 3\n",
    "\n",
    "poly_feat = PolynomialFeatures(degree=degr)\n",
    "\n",
    "x_polynal = poly_feat.fit_transform(x)\n",
    "\n",
    "print(x_polynal)\n",
    "\n",
    "print('Matrix generated using the following format',poly_feat.get_feature_names('x'))"
   ]
  },
  {
   "cell_type": "code",
   "execution_count": 53,
   "metadata": {},
   "outputs": [
    {
     "data": {
      "image/png": "[encoded data removed]",
      "text/plain": [
       "<Figure size 432x288 with 1 Axes>"
      ]
     },
     "metadata": {
      "needs_background": "light"
     },
     "output_type": "display_data"
    }
   ],
   "source": [
    "model1 = LinearRegression()\n",
    "\n",
    "model1.fit(x_polynal, y)\n",
    "\n",
    "y_polynml_pred = model1.predict(x_polynal)\n",
    "\n",
    "plt.scatter(x,y,s=10)\n",
    "plt.plot(x, y_polynml_pred)\n",
    "plt.show()\n",
    "\n",
    "\n",
    "\n",
    "\n",
    "\n",
    "\n"
   ]
  },
  {
   "cell_type": "code",
   "execution_count": 54,
   "metadata": {},
   "outputs": [],
   "source": [
    "#print('R-Squared for training set: %.4f' % model.score(x_polynal,y)) \n",
    "\n",
    "\n",
    "# The straight line can't fit all the points, so the bias is high.\n",
    "\n",
    "# The curve line fits all of the points, so the bias is low.\n",
    "# In ML, the fit between the datasets is know as variance.\n",
    "\n",
    "\n",
    "#Overfitting - when we try to find a curve to fit all of the points perfectly.\n",
    "\n",
    "# On the otherhand, if we have a line that does not fit most points, it is know as underfitting. "
   ]
  }
 ],
 "metadata": {
  "kernelspec": {
   "display_name": "Python 3",
   "language": "python",
   "name": "python3"
  },
  "language_info": {
   "codemirror_mode": {
    "name": "ipython",
    "version": 3
   },
   "file_extension": ".py",
   "mimetype": "text/x-python",
   "name": "python",
   "nbconvert_exporter": "python",
   "pygments_lexer": "ipython3",
   "version": "3.7.1"
  }
 },
 "nbformat": 4,
 "nbformat_minor": 2
}
