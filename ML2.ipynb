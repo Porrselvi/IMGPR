{
 "cells": [
  {
   "cell_type": "code",
   "execution_count": 84,
   "metadata": {},
   "outputs": [
    {
     "data": {
      "text/html": [
       "<div>\n",
       "<style scoped>\n",
       "    .dataframe tbody tr th:only-of-type {\n",
       "        vertical-align: middle;\n",
       "    }\n",
       "\n",
       "    .dataframe tbody tr th {\n",
       "        vertical-align: top;\n",
       "    }\n",
       "\n",
       "    .dataframe thead th {\n",
       "        text-align: right;\n",
       "    }\n",
       "</style>\n",
       "<table border=\"1\" class=\"dataframe\">\n",
       "  <thead>\n",
       "    <tr style=\"text-align: right;\">\n",
       "      <th></th>\n",
       "      <th>Height</th>\n",
       "      <th>Weight</th>\n",
       "      <th>Age</th>\n",
       "    </tr>\n",
       "  </thead>\n",
       "  <tbody>\n",
       "    <tr>\n",
       "      <th>0</th>\n",
       "      <td>73.847017</td>\n",
       "      <td>241.893563</td>\n",
       "      <td>45</td>\n",
       "    </tr>\n",
       "    <tr>\n",
       "      <th>1</th>\n",
       "      <td>68.781904</td>\n",
       "      <td>162.310473</td>\n",
       "      <td>65</td>\n",
       "    </tr>\n",
       "    <tr>\n",
       "      <th>2</th>\n",
       "      <td>NaN</td>\n",
       "      <td>NaN</td>\n",
       "      <td>33</td>\n",
       "    </tr>\n",
       "    <tr>\n",
       "      <th>3</th>\n",
       "      <td>74.110105</td>\n",
       "      <td>212.740856</td>\n",
       "      <td>56</td>\n",
       "    </tr>\n",
       "    <tr>\n",
       "      <th>4</th>\n",
       "      <td>71.730978</td>\n",
       "      <td>220.042470</td>\n",
       "      <td>55</td>\n",
       "    </tr>\n",
       "  </tbody>\n",
       "</table>\n",
       "</div>"
      ],
      "text/plain": [
       "      Height      Weight  Age\n",
       "0  73.847017  241.893563   45\n",
       "1  68.781904  162.310473   65\n",
       "2        NaN         NaN   33\n",
       "3  74.110105  212.740856   56\n",
       "4  71.730978  220.042470   55"
      ]
     },
     "execution_count": 84,
     "metadata": {},
     "output_type": "execute_result"
    }
   ],
   "source": [
    "%matplotlib inline\n",
    "import matplotlib.pyplot as plt\n",
    "import pandas as pd\n",
    "import numpy as np\n",
    "import csv\n",
    "\n",
    "import sklearn\n",
    "\n",
    "dataset = pd.read_csv('C:/Users/Administrator/Desktop/PYTHON CRASH COURSE/HeightWeight.csv')\n",
    "dataset.head()\n"
   ]
  },
  {
   "cell_type": "code",
   "execution_count": 54,
   "metadata": {},
   "outputs": [
    {
     "data": {
      "text/html": [
       "<div>\n",
       "<style scoped>\n",
       "    .dataframe tbody tr th:only-of-type {\n",
       "        vertical-align: middle;\n",
       "    }\n",
       "\n",
       "    .dataframe tbody tr th {\n",
       "        vertical-align: top;\n",
       "    }\n",
       "\n",
       "    .dataframe thead th {\n",
       "        text-align: right;\n",
       "    }\n",
       "</style>\n",
       "<table border=\"1\" class=\"dataframe\">\n",
       "  <thead>\n",
       "    <tr style=\"text-align: right;\">\n",
       "      <th></th>\n",
       "      <th>Height</th>\n",
       "      <th>Weight</th>\n",
       "      <th>Age</th>\n",
       "    </tr>\n",
       "  </thead>\n",
       "  <tbody>\n",
       "    <tr>\n",
       "      <th>count</th>\n",
       "      <td>9.000000</td>\n",
       "      <td>9.000000</td>\n",
       "      <td>10.000000</td>\n",
       "    </tr>\n",
       "    <tr>\n",
       "      <th>mean</th>\n",
       "      <td>70.467670</td>\n",
       "      <td>209.627211</td>\n",
       "      <td>46.200000</td>\n",
       "    </tr>\n",
       "    <tr>\n",
       "      <th>std</th>\n",
       "      <td>4.587761</td>\n",
       "      <td>99.761825</td>\n",
       "      <td>11.153475</td>\n",
       "    </tr>\n",
       "    <tr>\n",
       "      <th>min</th>\n",
       "      <td>60.000000</td>\n",
       "      <td>100.000000</td>\n",
       "      <td>33.000000</td>\n",
       "    </tr>\n",
       "    <tr>\n",
       "      <th>25%</th>\n",
       "      <td>68.781904</td>\n",
       "      <td>162.310473</td>\n",
       "      <td>36.250000</td>\n",
       "    </tr>\n",
       "    <tr>\n",
       "      <th>50%</th>\n",
       "      <td>71.730978</td>\n",
       "      <td>212.740856</td>\n",
       "      <td>45.000000</td>\n",
       "    </tr>\n",
       "    <tr>\n",
       "      <th>75%</th>\n",
       "      <td>73.847017</td>\n",
       "      <td>241.893563</td>\n",
       "      <td>55.000000</td>\n",
       "    </tr>\n",
       "    <tr>\n",
       "      <th>max</th>\n",
       "      <td>74.110105</td>\n",
       "      <td>435.453500</td>\n",
       "      <td>65.000000</td>\n",
       "    </tr>\n",
       "  </tbody>\n",
       "</table>\n",
       "</div>"
      ],
      "text/plain": [
       "          Height      Weight        Age\n",
       "count   9.000000    9.000000  10.000000\n",
       "mean   70.467670  209.627211  46.200000\n",
       "std     4.587761   99.761825  11.153475\n",
       "min    60.000000  100.000000  33.000000\n",
       "25%    68.781904  162.310473  36.250000\n",
       "50%    71.730978  212.740856  45.000000\n",
       "75%    73.847017  241.893563  55.000000\n",
       "max    74.110105  435.453500  65.000000"
      ]
     },
     "execution_count": 54,
     "metadata": {},
     "output_type": "execute_result"
    }
   ],
   "source": [
    "dataset.describe()"
   ]
  },
  {
   "cell_type": "code",
   "execution_count": 56,
   "metadata": {},
   "outputs": [
    {
     "name": "stdout",
     "output_type": "stream",
     "text": [
      "      Height      Weight  Age\n",
      "0  73.847017  241.893563   45\n",
      "1  68.781904  162.310473   65\n",
      "2        NaN         NaN   33\n",
      "3  74.110105  212.740856   56\n",
      "4  71.730978  220.042470   55\n",
      "5  73.847017  241.893563   55\n",
      "6  68.781904  162.310473   33\n",
      "7  74.110105  435.453500   45\n",
      "8  60.000000  100.000000   35\n",
      "9  69.000000  110.000000   40\n"
     ]
    }
   ],
   "source": [
    "data_frame = pd.DataFrame(dataset)\n",
    "print(data_frame)\n"
   ]
  },
  {
   "cell_type": "code",
   "execution_count": 57,
   "metadata": {},
   "outputs": [
    {
     "name": "stdout",
     "output_type": "stream",
     "text": [
      "Mean values for each column Height     70.467670\n",
      "Weight    209.627211\n",
      "Age        46.200000\n",
      "dtype: float64\n"
     ]
    }
   ],
   "source": [
    "print(\"Mean values for each column\",data_frame.mean(0))"
   ]
  },
  {
   "cell_type": "code",
   "execution_count": 58,
   "metadata": {},
   "outputs": [
    {
     "name": "stdout",
     "output_type": "stream",
     "text": [
      "Last five columns       Height      Weight  Age\n",
      "5  73.847017  241.893563   55\n",
      "6  68.781904  162.310473   33\n",
      "7  74.110105  435.453500   45\n",
      "8  60.000000  100.000000   35\n",
      "9  69.000000  110.000000   40\n"
     ]
    }
   ],
   "source": [
    "print('Last five columns',data_frame.tail())"
   ]
  },
  {
   "cell_type": "code",
   "execution_count": 59,
   "metadata": {},
   "outputs": [
    {
     "name": "stdout",
     "output_type": "stream",
     "text": [
      "(10, 3)\n"
     ]
    }
   ],
   "source": [
    "print(data_frame.shape)"
   ]
  },
  {
   "cell_type": "code",
   "execution_count": 60,
   "metadata": {},
   "outputs": [
    {
     "name": "stdout",
     "output_type": "stream",
     "text": [
      "0    73.847017\n",
      "1    68.781904\n",
      "2          NaN\n",
      "3    74.110105\n",
      "4    71.730978\n",
      "5    73.847017\n",
      "6    68.781904\n",
      "7    74.110105\n",
      "8    60.000000\n",
      "9    69.000000\n",
      "Name: Height, dtype: float64\n"
     ]
    }
   ],
   "source": [
    "print(data_frame['Height'])"
   ]
  },
  {
   "cell_type": "code",
   "execution_count": 61,
   "metadata": {},
   "outputs": [
    {
     "name": "stdout",
     "output_type": "stream",
     "text": [
      "0    120.246860\n",
      "1     98.697459\n",
      "2     33.000000\n",
      "3    114.283654\n",
      "4    115.591150\n",
      "5    123.580193\n",
      "6     88.030792\n",
      "7    184.854535\n",
      "8     65.000000\n",
      "9     73.000000\n",
      "dtype: float64\n"
     ]
    }
   ],
   "source": [
    "print(data_frame.mean(1))"
   ]
  },
  {
   "cell_type": "code",
   "execution_count": null,
   "metadata": {},
   "outputs": [],
   "source": []
  },
  {
   "cell_type": "code",
   "execution_count": 62,
   "metadata": {},
   "outputs": [
    {
     "name": "stdout",
     "output_type": "stream",
     "text": [
      "Height    1\n",
      "Weight    1\n",
      "Age       0\n",
      "dtype: int64\n"
     ]
    }
   ],
   "source": [
    "print(data_frame.isnull().sum())"
   ]
  },
  {
   "cell_type": "code",
   "execution_count": 26,
   "metadata": {},
   "outputs": [],
   "source": [
    "# Normalization Process\n",
    "\n"
   ]
  },
  {
   "cell_type": "code",
   "execution_count": 73,
   "metadata": {},
   "outputs": [
    {
     "name": "stdout",
     "output_type": "stream",
     "text": [
      "      Height      Weight  Age\n",
      "0  73.847017  241.893563   45\n",
      "1  68.781904  162.310473   65\n",
      "3  74.110105  212.740856   56\n",
      "4  71.730978  220.042470   55\n",
      "5  73.847017  241.893563   55\n",
      "6  68.781904  162.310473   33\n",
      "7  74.110105  435.453500   45\n",
      "8  60.000000  100.000000   35\n",
      "9  69.000000  110.000000   40\n"
     ]
    }
   ],
   "source": [
    "\n",
    "#data_frame.Height = data_frame.fillna(data_frame.Height.mean())\n",
    "#print(data_frame)\n",
    "\n",
    "data_frame = data_frame.dropna()\n",
    "print(data_frame)\n",
    "\n"
   ]
  },
  {
   "cell_type": "code",
   "execution_count": 75,
   "metadata": {},
   "outputs": [
    {
     "name": "stdout",
     "output_type": "stream",
     "text": [
      "      Height      Weight  Age\n",
      "0  73.847017  241.893563   45\n",
      "1  68.781904  162.310473   65\n",
      "2  74.110105  212.740856   56\n",
      "3  71.730978  220.042470   55\n",
      "4  73.847017  241.893563   55\n",
      "5  68.781904  162.310473   33\n",
      "6  74.110105  435.453500   45\n",
      "7  60.000000  100.000000   35\n",
      "8  69.000000  110.000000   40\n"
     ]
    }
   ],
   "source": [
    "reset_data = data_frame.reset_index(drop=True)\n",
    "print(reset_data)"
   ]
  },
  {
   "cell_type": "code",
   "execution_count": 76,
   "metadata": {},
   "outputs": [
    {
     "name": "stdout",
     "output_type": "stream",
     "text": [
      "0    False\n",
      "1    False\n",
      "2    False\n",
      "3    False\n",
      "4    False\n",
      "5    False\n",
      "6    False\n",
      "7    False\n",
      "8    False\n",
      "dtype: bool\n"
     ]
    }
   ],
   "source": [
    "print(reset_data.duplicated(keep=False))"
   ]
  },
  {
   "cell_type": "code",
   "execution_count": 77,
   "metadata": {},
   "outputs": [
    {
     "name": "stdout",
     "output_type": "stream",
     "text": [
      "0    False\n",
      "1    False\n",
      "3    False\n",
      "4    False\n",
      "5    False\n",
      "6    False\n",
      "7    False\n",
      "8    False\n",
      "9    False\n",
      "dtype: bool\n"
     ]
    }
   ],
   "source": [
    "print(data_frame.duplicated(keep=False))"
   ]
  },
  {
   "cell_type": "code",
   "execution_count": 79,
   "metadata": {},
   "outputs": [
    {
     "name": "stdout",
     "output_type": "stream",
     "text": [
      "Empty DataFrame\n",
      "Columns: [Height, Weight, Age]\n",
      "Index: []\n"
     ]
    }
   ],
   "source": [
    "print(data_frame[data_frame.duplicated(keep=False)])"
   ]
  },
  {
   "cell_type": "code",
   "execution_count": 86,
   "metadata": {},
   "outputs": [
    {
     "name": "stdout",
     "output_type": "stream",
     "text": [
      "          Height    Weight       Age\n",
      "Height  1.000000  0.687819  0.468568\n",
      "Weight  0.687819  1.000000  0.195300\n",
      "Age     0.468568  0.195300  1.000000\n"
     ]
    }
   ],
   "source": [
    "#Correlation function\n",
    "corr = data_frame.corr()\n",
    "print(corr)\n",
    "\n"
   ]
  },
  {
   "cell_type": "code",
   "execution_count": 92,
   "metadata": {},
   "outputs": [
    {
     "name": "stdout",
     "output_type": "stream",
     "text": [
      "Index(['Weight', 'Height', 'Age'], dtype='object')\n"
     ]
    }
   ],
   "source": [
    "print(data_frame.corr().abs().nlargest(3,'Weight').index)"
   ]
  }
 ],
 "metadata": {
  "kernelspec": {
   "display_name": "Python 3",
   "language": "python",
   "name": "python3"
  },
  "language_info": {
   "codemirror_mode": {
    "name": "ipython",
    "version": 3
   },
   "file_extension": ".py",
   "mimetype": "text/x-python",
   "name": "python",
   "nbconvert_exporter": "python",
   "pygments_lexer": "ipython3",
   "version": "3.7.1"
  }
 },
 "nbformat": 4,
 "nbformat_minor": 2
}
